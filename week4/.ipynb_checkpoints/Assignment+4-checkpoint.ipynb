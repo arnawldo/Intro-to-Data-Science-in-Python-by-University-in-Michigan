{
 "cells": [
  {
   "cell_type": "markdown",
   "metadata": {},
   "source": [
    "---\n",
    "\n",
    "_You are currently looking at **version 1.0** of this notebook. To download notebooks and datafiles, as well as get help on Jupyter notebooks in the Coursera platform, visit the [Jupyter Notebook FAQ](https://www.coursera.org/learn/python-data-analysis/resources/0dhYG) course resource._\n",
    "\n",
    "---"
   ]
  },
  {
   "cell_type": "code",
   "execution_count": 1,
   "metadata": {
    "collapsed": true
   },
   "outputs": [],
   "source": [
    "import pandas as pd\n",
    "import numpy as np\n",
    "from scipy.stats import ttest_ind"
   ]
  },
  {
   "cell_type": "markdown",
   "metadata": {},
   "source": [
    "# Assignment 4 - Hypothesis Testing\n",
    "This assignment requires more individual learning than previous assignments - you are encouraged to check out the [pandas documentation](http://pandas.pydata.org/pandas-docs/stable/) to find functions or methods you might not have used yet, or ask questions on [Stack Overflow](http://stackoverflow.com/) and tag them as pandas and python related. And of course, the discussion forums are open for interaction with your peers and the course staff.\n",
    "\n",
    "Definitions:\n",
    "* A _quarter_ is a specific three month period, Q1 is January through March, Q2 is April through June, Q3 is July through September, Q4 is October through December.\n",
    "* A _recession_ is defined as starting with two consecutive quarters of GDP decline, and ending with two consecutive quarters of GDP growth.\n",
    "* A _recession bottom_ is the quarter within a recession which had the lowest GDP.\n",
    "* A _university town_ is a city which has a high percentage of university students compared to the total population of the city.\n",
    "\n",
    "**Hypothesis**: University towns have their mean housing prices less effected by recessions. Run a t-test to compare the ratio of the mean price of houses in university towns the quarter before the recession starts compared to the recession bottom. (`price_ratio=quarter_before_recession/recession_bottom`)\n",
    "\n",
    "The following data files are available for this assignment:\n",
    "* From the [Zillow research data site](http://www.zillow.com/research/data/) there is housing data for the United States. In particular the datafile for [all homes at a city level](http://files.zillowstatic.com/research/public/City/City_Zhvi_AllHomes.csv), ```City_Zhvi_AllHomes.csv```, has median home sale prices at a fine grained level.\n",
    "* From the Wikipedia page on college towns is a list of [university towns in the United States](https://en.wikipedia.org/wiki/List_of_college_towns#College_towns_in_the_United_States) which has been copy and pasted into the file ```university_towns.txt```.\n",
    "* From Bureau of Economic Analysis, US Department of Commerce, the [GDP over time](http://www.bea.gov/national/index.htm#gdp) of the United States in current dollars (use the chained value in 2009 dollars), in quarterly intervals, in the file ```gdplev.xls```. For this assignment, only look at GDP data from the first quarter of 2000 onward.\n",
    "\n",
    "Each function in this assignment below is worth 10%, with the exception of ```run_ttest()```, which is worth 50%."
   ]
  },
  {
   "cell_type": "code",
   "execution_count": 2,
   "metadata": {
    "collapsed": false
   },
   "outputs": [],
   "source": [
    "# Use this dictionary to map state names to two letter acronyms\n",
    "states = {'OH': 'Ohio', 'KY': 'Kentucky', 'AS': 'American Samoa', 'NV': 'Nevada', 'WY': 'Wyoming', 'NA': 'National', 'AL': 'Alabama', 'MD': 'Maryland', 'AK': 'Alaska', 'UT': 'Utah', 'OR': 'Oregon', 'MT': 'Montana', 'IL': 'Illinois', 'TN': 'Tennessee', 'DC': 'District of Columbia', 'VT': 'Vermont', 'ID': 'Idaho', 'AR': 'Arkansas', 'ME': 'Maine', 'WA': 'Washington', 'HI': 'Hawaii', 'WI': 'Wisconsin', 'MI': 'Michigan', 'IN': 'Indiana', 'NJ': 'New Jersey', 'AZ': 'Arizona', 'GU': 'Guam', 'MS': 'Mississippi', 'PR': 'Puerto Rico', 'NC': 'North Carolina', 'TX': 'Texas', 'SD': 'South Dakota', 'MP': 'Northern Mariana Islands', 'IA': 'Iowa', 'MO': 'Missouri', 'CT': 'Connecticut', 'WV': 'West Virginia', 'SC': 'South Carolina', 'LA': 'Louisiana', 'KS': 'Kansas', 'NY': 'New York', 'NE': 'Nebraska', 'OK': 'Oklahoma', 'FL': 'Florida', 'CA': 'California', 'CO': 'Colorado', 'PA': 'Pennsylvania', 'DE': 'Delaware', 'NM': 'New Mexico', 'RI': 'Rhode Island', 'MN': 'Minnesota', 'VI': 'Virgin Islands', 'NH': 'New Hampshire', 'MA': 'Massachusetts', 'GA': 'Georgia', 'ND': 'North Dakota', 'VA': 'Virginia'}"
   ]
  },
  {
   "cell_type": "code",
   "execution_count": 3,
   "metadata": {
    "collapsed": false
   },
   "outputs": [],
   "source": [
    "def get_list_of_university_towns():\n",
    "    '''Returns a DataFrame of towns and the states they are in from the \n",
    "    university_towns.txt list. The format of the DataFrame should be:\n",
    "    DataFrame( [ [\"Michigan\",\"Ann Arbor\"], [\"Michigan\", \"Yipsilanti\"] ], \n",
    "    columns=[\"State\",\"RegionName\"]  )'''\n",
    "    import re\n",
    "    state = ''\n",
    "    Tupy = []\n",
    "   \n",
    "    # open txt file\n",
    "    with open('university_towns.txt') as file:\n",
    "\n",
    "        for line in file:\n",
    "            # remove trailing whitespace\n",
    "            line = line.strip()\n",
    "            \n",
    "            # match state regex\n",
    "            word = re.findall('(.+)\\[edit\\]', line)\n",
    "            \n",
    "            # if state matched, add to state list and continue\n",
    "            if word:\n",
    "                state = word[0].strip()\n",
    "                continue\n",
    "            # if region instead\n",
    "            word = re.findall('(.+?)\\(', line)\n",
    "            if word:\n",
    "                Tupy.append((state, word[0].strip()))\n",
    "            else:\n",
    "                Tupy.append((state, line.strip()))\n",
    "            \n",
    "    df = pd.DataFrame({'RegionName':[i[1] for i in Tupy], 'State': [i[0] for i in Tupy]}, columns=[\"State\",\"RegionName\"])\n",
    "    df.index = range(517)\n",
    "    #states = {v: k for k, v in states.items()}\n",
    "    #df.State.replace(states, inplace=True)\n",
    "    return df"
   ]
  },
  {
   "cell_type": "code",
   "execution_count": 4,
   "metadata": {
    "collapsed": false
   },
   "outputs": [],
   "source": [
    "def get_recession_start():\n",
    "    '''Returns the year and quarter of the recession start time as a \n",
    "    string value in a format such as 2005q3'''\n",
    "    \n",
    "    # read in data\n",
    "    df = pd.read_excel('gdplev.xls', skiprows=7, parse_cols=[4,6], names=['quarter','gdp'])\n",
    "    # get data from year 2000 onward\n",
    "    df = df.iloc[212:,:].copy()\n",
    "    df.index = range(len(df))\n",
    "    # create column for recession in gdp\n",
    "    df['recession'] = 0\n",
    "    \n",
    "    for i in range(len(df.recession)):\n",
    "        if i < 2:\n",
    "            continue\n",
    "        if df.gdp[i] < df.gdp[i-1] < df.gdp[i-2]:\n",
    "            df.set_value(i-1, 'recession', 1)\n",
    "            \n",
    "    # get first row with recession value of 1\n",
    "    return df.loc[df[df.recession == 1].index[0], 'quarter']"
   ]
  },
  {
   "cell_type": "code",
   "execution_count": 5,
   "metadata": {
    "collapsed": false
   },
   "outputs": [],
   "source": [
    "def get_recession_end():\n",
    "    '''Returns the year and quarter of the recession end time as a \n",
    "    string value in a format such as 2005q3'''\n",
    "    df = pd.read_excel('gdplev.xls', skiprows=7, parse_cols=[4,6], names=['quarter','gdp'])\n",
    "    # get data from year 2000 onward\n",
    "    df = df.iloc[212:,:].copy()\n",
    "    df.index = range(len(df))\n",
    "\n",
    "    df.loc[:,'recession'] = 0\n",
    "    df.loc[:,'growth'] = 0\n",
    "\n",
    "\n",
    "\n",
    "    for i in range(len(df.recession)):\n",
    "        if i < 2:\n",
    "            continue\n",
    "        if df.gdp[i] < df.gdp[i-1] < df.gdp[i-2]:\n",
    "            df.set_value(i-1, 'recession', 1)\n",
    "            df.set_value(i, 'recession', 1)\n",
    "            #df.recession.loc[i-1] = 1\n",
    "            #df.recession.loc[i] = 1\n",
    "\n",
    "\n",
    "    for i in range(len(df.growth)):\n",
    "        if i < 2:\n",
    "            continue\n",
    "        if (df.gdp[i] > df.gdp[i-1] > df.gdp[i-2]):\n",
    "            df.set_value(i-1, 'growth', 1)\n",
    "            df.set_value(i, 'growth', 1)\n",
    "\n",
    "    for i in range(len(df.growth)):\n",
    "        if i < 2:\n",
    "            continue\n",
    "        if df.recession.loc[i-1] == 1 and df.growth.loc[i] == 1 and df.growth.loc[i+1] == 1:\n",
    "            return (df.quarter[i+1])\n"
   ]
  },
  {
   "cell_type": "code",
   "execution_count": 6,
   "metadata": {
    "collapsed": false
   },
   "outputs": [],
   "source": [
    "def get_recession_bottom():\n",
    "    '''Returns the year and quarter of the recession bottom time as a \n",
    "    string value in a format such as 2005q3'''\n",
    "     # read in data\n",
    "    df = pd.read_excel('gdplev.xls', skiprows=7, parse_cols=[4,6], names=['quarter','gdp'])\n",
    "    # get data from year 2000 onward\n",
    "    df = df.iloc[212:,:].copy()\n",
    "    df.index = range(len(df))\n",
    "\n",
    "    df.set_index('quarter', inplace=True)\n",
    "    return df.ix[get_recession_start():get_recession_end(), 'gdp'].argmin()"
   ]
  },
  {
   "cell_type": "code",
   "execution_count": 7,
   "metadata": {
    "collapsed": false
   },
   "outputs": [],
   "source": [
    "def convert_housing_data_to_quarters():\n",
    "    '''Converts the housing data to quarters and returns it as mean \n",
    "    values in a dataframe. This dataframe should be a dataframe with\n",
    "    columns for 2000q1 through 2016q3, and should have a multi-index\n",
    "    in the shape of [\"State\",\"RegionName\"].\n",
    "    \n",
    "    Note: Quarters are defined in the assignment description, they are\n",
    "    not arbitrary three month periods.\n",
    "    \n",
    "    The resulting dataframe should have 67 columns, and 10,730 rows.\n",
    "    '''\n",
    "\n",
    "    # read in data\n",
    "    houses = pd.read_csv('City_Zhvi_AllHomes.csv')\n",
    "    # convert months to quarters\n",
    "    quarters = []\n",
    "    for ym in houses.columns[6:]:\n",
    "        if int(ym[5:]) < 4:\n",
    "            quarters.append(ym[:4] + 'q1')\n",
    "        elif int(ym[5:]) < 7:\n",
    "            quarters.append(ym[:4] + 'q2')\n",
    "        elif int(ym[5:]) < 10:\n",
    "            quarters.append(ym[:4] + 'q3')\n",
    "        else:\n",
    "            quarters.append(ym[:4] + 'q4')\n",
    "    \n",
    "    # transpose dataframe\n",
    "    df2 = houses.loc[:,'1996-04':].T\n",
    "    \n",
    "    # set index as new quarter values\n",
    "    df2.index = quarters\n",
    "    # select only quarters from 2000q1\n",
    "    df2 = df2.ix['2000q1':,:]\n",
    "    # convert index to column\n",
    "    df2 = df2.reset_index(level=0)\n",
    "    # groupby index with mean function\n",
    "    df2 = df2.groupby('index').mean()\n",
    "    #transpose rows back to columns\n",
    "    df2 = df2.T \n",
    "    # concatenate state and region name columns from Houses to new dataframe\n",
    "    df3 = pd.concat([houses.loc[:,['State','RegionName']], df2], axis=1)\n",
    "    # replace state initials with names\n",
    "    states = {'OH': 'Ohio', 'KY': 'Kentucky', 'AS': 'American Samoa', 'NV': 'Nevada', 'WY': 'Wyoming', 'NA': 'National', 'AL': 'Alabama', 'MD': 'Maryland', 'AK': 'Alaska', 'UT': 'Utah', 'OR': 'Oregon', 'MT': 'Montana', 'IL': 'Illinois', 'TN': 'Tennessee', 'DC': 'District of Columbia', 'VT': 'Vermont', 'ID': 'Idaho', 'AR': 'Arkansas', 'ME': 'Maine', 'WA': 'Washington', 'HI': 'Hawaii', 'WI': 'Wisconsin', 'MI': 'Michigan', 'IN': 'Indiana', 'NJ': 'New Jersey', 'AZ': 'Arizona', 'GU': 'Guam', 'MS': 'Mississippi', 'PR': 'Puerto Rico', 'NC': 'North Carolina', 'TX': 'Texas', 'SD': 'South Dakota', 'MP': 'Northern Mariana Islands', 'IA': 'Iowa', 'MO': 'Missouri', 'CT': 'Connecticut', 'WV': 'West Virginia', 'SC': 'South Carolina', 'LA': 'Louisiana', 'KS': 'Kansas', 'NY': 'New York', 'NE': 'Nebraska', 'OK': 'Oklahoma', 'FL': 'Florida', 'CA': 'California', 'CO': 'Colorado', 'PA': 'Pennsylvania', 'DE': 'Delaware', 'NM': 'New Mexico', 'RI': 'Rhode Island', 'MN': 'Minnesota', 'VI': 'Virgin Islands', 'NH': 'New Hampshire', 'MA': 'Massachusetts', 'GA': 'Georgia', 'ND': 'North Dakota', 'VA': 'Virginia'}\n",
    "    df3.replace({'State':states}, inplace=True)\n",
    "    # set index\n",
    "    df3.set_index(['State','RegionName'], inplace=True)\n",
    "    return df3"
   ]
  },
  {
   "cell_type": "code",
   "execution_count": 22,
   "metadata": {
    "collapsed": false
   },
   "outputs": [],
   "source": [
    "def run_ttest():\n",
    "    '''First creates new data showing the decline or growth of housing prices\n",
    "    between the recession start and the recession bottom. Then runs a ttest\n",
    "    comparing the university town values to the non-university towns values, \n",
    "    return whether the alternative hypothesis (that the two groups are the same)\n",
    "    is true or not as well as the p-value of the confidence. \n",
    "    \n",
    "    Return the tuple (different, p, better) where different=True if the t-test is\n",
    "    True at a p<0.01 (we reject the null hypothesis), or different=False if \n",
    "    otherwise (we cannot reject the null hypothesis). The variable p should\n",
    "    be equal to the exact p value returned from scipy.stats.ttest_ind(). The\n",
    "    value for better should be either \"university town\" or \"non-university town\"\n",
    "    depending on which has a lower mean price ratio (which is equivilent to a\n",
    "    reduced market loss).'''\n",
    "    # get housing data\n",
    "    df = convert_housing_data_to_quarters()\n",
    "    # get town data\n",
    "    df2 = get_list_of_university_towns()\n",
    "    # merge housing data and towns \n",
    "    ut = pd.merge(left = df, how='inner', left_index=True, right_on=['State','RegionName'], right=df2)\n",
    "    # set index values of housing back to integers\n",
    "    nut = df.reset_index()\n",
    "    # check indices in nut that do not appear in ut\n",
    "    nut = nut.loc[~nut.index.isin(ut.index), :].copy()\n",
    "    # get column position for before and bottom recession in ut\n",
    "    before = ut.columns.get_loc(get_recession_start()) - 1\n",
    "    bottom = ut.columns.get_loc(get_recession_bottom())\n",
    "    # calc price ratio for ut\n",
    "    ut['ratio'] = ut.iloc[:, before].values / ut.iloc[:, bottom].values\n",
    "    # get column position for before and bottom recession in nut\n",
    "    before = nut.columns.get_loc(get_recession_start()) - 1\n",
    "    bottom = nut.columns.get_loc(get_recession_bottom())\n",
    "    # calc ratio\n",
    "    nut['ratio'] = nut.iloc[:, before].values / nut.iloc[:, bottom].values\n",
    "    # t-test\n",
    "    from scipy import stats\n",
    "    result = stats.ttest_ind(ut.ratio.dropna(), nut.ratio.dropna())\n",
    "\n",
    "\n",
    "    different = result.pvalue < 0.01\n",
    "    p = result.pvalue\n",
    "    if ut.ratio.mean() < nut.ratio.mean():\n",
    "        better = 'university town'\n",
    "    else:\n",
    "        better = 'non-university town'\n",
    "    return different, p, better"
   ]
  },
  {
   "cell_type": "code",
   "execution_count": null,
   "metadata": {
    "collapsed": true
   },
   "outputs": [],
   "source": []
  }
 ],
 "metadata": {
  "anaconda-cloud": {},
  "coursera": {
   "course_slug": "python-data-analysis",
   "graded_item_id": "Il9Fx",
   "launcher_item_id": "TeDW0",
   "part_id": "WGlun"
  },
  "kernelspec": {
   "display_name": "Python 3",
   "language": "python",
   "name": "python3"
  },
  "language_info": {
   "codemirror_mode": {
    "name": "ipython",
    "version": 3
   },
   "file_extension": ".py",
   "mimetype": "text/x-python",
   "name": "python",
   "nbconvert_exporter": "python",
   "pygments_lexer": "ipython3",
   "version": "3.5.2"
  }
 },
 "nbformat": 4,
 "nbformat_minor": 0
}
